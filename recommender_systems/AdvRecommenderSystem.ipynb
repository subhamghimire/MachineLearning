{
  "nbformat": 4,
  "nbformat_minor": 0,
  "metadata": {
    "colab": {
      "name": "AdvRecommenderSystem.ipynb",
      "provenance": [],
      "collapsed_sections": []
    },
    "kernelspec": {
      "name": "python3",
      "display_name": "Python 3"
    }
  },
  "cells": [
    {
      "cell_type": "code",
      "metadata": {
        "id": "dvFX-HPxK2RD",
        "colab_type": "code",
        "colab": {}
      },
      "source": [
        "import numpy as np\n",
        "import pandas as pd"
      ],
      "execution_count": 0,
      "outputs": []
    },
    {
      "cell_type": "code",
      "metadata": {
        "id": "6AsphIekLadN",
        "colab_type": "code",
        "colab": {}
      },
      "source": [
        "column_names = ['user_id', 'item_id', 'rating', 'timestamp']\n",
        "df = pd.read_csv('u.data', sep='\\t', names=column_names)"
      ],
      "execution_count": 0,
      "outputs": []
    },
    {
      "cell_type": "code",
      "metadata": {
        "id": "IjRop0CMLmZp",
        "colab_type": "code",
        "colab": {
          "base_uri": "https://localhost:8080/",
          "height": 195
        },
        "outputId": "117d39f3-3196-45fe-8fbd-ebd0025aa82d"
      },
      "source": [
        "df.head()"
      ],
      "execution_count": 3,
      "outputs": [
        {
          "output_type": "execute_result",
          "data": {
            "text/html": [
              "<div>\n",
              "<style scoped>\n",
              "    .dataframe tbody tr th:only-of-type {\n",
              "        vertical-align: middle;\n",
              "    }\n",
              "\n",
              "    .dataframe tbody tr th {\n",
              "        vertical-align: top;\n",
              "    }\n",
              "\n",
              "    .dataframe thead th {\n",
              "        text-align: right;\n",
              "    }\n",
              "</style>\n",
              "<table border=\"1\" class=\"dataframe\">\n",
              "  <thead>\n",
              "    <tr style=\"text-align: right;\">\n",
              "      <th></th>\n",
              "      <th>user_id</th>\n",
              "      <th>item_id</th>\n",
              "      <th>rating</th>\n",
              "      <th>timestamp</th>\n",
              "    </tr>\n",
              "  </thead>\n",
              "  <tbody>\n",
              "    <tr>\n",
              "      <th>0</th>\n",
              "      <td>0</td>\n",
              "      <td>50</td>\n",
              "      <td>5</td>\n",
              "      <td>881250949</td>\n",
              "    </tr>\n",
              "    <tr>\n",
              "      <th>1</th>\n",
              "      <td>0</td>\n",
              "      <td>172</td>\n",
              "      <td>5</td>\n",
              "      <td>881250949</td>\n",
              "    </tr>\n",
              "    <tr>\n",
              "      <th>2</th>\n",
              "      <td>0</td>\n",
              "      <td>133</td>\n",
              "      <td>1</td>\n",
              "      <td>881250949</td>\n",
              "    </tr>\n",
              "    <tr>\n",
              "      <th>3</th>\n",
              "      <td>196</td>\n",
              "      <td>242</td>\n",
              "      <td>3</td>\n",
              "      <td>881250949</td>\n",
              "    </tr>\n",
              "    <tr>\n",
              "      <th>4</th>\n",
              "      <td>186</td>\n",
              "      <td>302</td>\n",
              "      <td>3</td>\n",
              "      <td>891717742</td>\n",
              "    </tr>\n",
              "  </tbody>\n",
              "</table>\n",
              "</div>"
            ],
            "text/plain": [
              "   user_id  item_id  rating  timestamp\n",
              "0        0       50       5  881250949\n",
              "1        0      172       5  881250949\n",
              "2        0      133       1  881250949\n",
              "3      196      242       3  881250949\n",
              "4      186      302       3  891717742"
            ]
          },
          "metadata": {
            "tags": []
          },
          "execution_count": 3
        }
      ]
    },
    {
      "cell_type": "code",
      "metadata": {
        "id": "YjrR4Bh1Lm_P",
        "colab_type": "code",
        "colab": {
          "base_uri": "https://localhost:8080/",
          "height": 195
        },
        "outputId": "c50d08e0-d4d5-4655-8b2d-3d8e651bec7f"
      },
      "source": [
        "movie_titles = pd.read_csv(\"Movie_Id_Titles\")\n",
        "movie_titles.head()"
      ],
      "execution_count": 5,
      "outputs": [
        {
          "output_type": "execute_result",
          "data": {
            "text/html": [
              "<div>\n",
              "<style scoped>\n",
              "    .dataframe tbody tr th:only-of-type {\n",
              "        vertical-align: middle;\n",
              "    }\n",
              "\n",
              "    .dataframe tbody tr th {\n",
              "        vertical-align: top;\n",
              "    }\n",
              "\n",
              "    .dataframe thead th {\n",
              "        text-align: right;\n",
              "    }\n",
              "</style>\n",
              "<table border=\"1\" class=\"dataframe\">\n",
              "  <thead>\n",
              "    <tr style=\"text-align: right;\">\n",
              "      <th></th>\n",
              "      <th>item_id</th>\n",
              "      <th>title</th>\n",
              "    </tr>\n",
              "  </thead>\n",
              "  <tbody>\n",
              "    <tr>\n",
              "      <th>0</th>\n",
              "      <td>1</td>\n",
              "      <td>Toy Story (1995)</td>\n",
              "    </tr>\n",
              "    <tr>\n",
              "      <th>1</th>\n",
              "      <td>2</td>\n",
              "      <td>GoldenEye (1995)</td>\n",
              "    </tr>\n",
              "    <tr>\n",
              "      <th>2</th>\n",
              "      <td>3</td>\n",
              "      <td>Four Rooms (1995)</td>\n",
              "    </tr>\n",
              "    <tr>\n",
              "      <th>3</th>\n",
              "      <td>4</td>\n",
              "      <td>Get Shorty (1995)</td>\n",
              "    </tr>\n",
              "    <tr>\n",
              "      <th>4</th>\n",
              "      <td>5</td>\n",
              "      <td>Copycat (1995)</td>\n",
              "    </tr>\n",
              "  </tbody>\n",
              "</table>\n",
              "</div>"
            ],
            "text/plain": [
              "   item_id              title\n",
              "0        1   Toy Story (1995)\n",
              "1        2   GoldenEye (1995)\n",
              "2        3  Four Rooms (1995)\n",
              "3        4  Get Shorty (1995)\n",
              "4        5     Copycat (1995)"
            ]
          },
          "metadata": {
            "tags": []
          },
          "execution_count": 5
        }
      ]
    },
    {
      "cell_type": "code",
      "metadata": {
        "id": "C2dLlcQVLom0",
        "colab_type": "code",
        "colab": {
          "base_uri": "https://localhost:8080/",
          "height": 195
        },
        "outputId": "ce6155bc-bafb-4cd5-93fb-4b3a006aebfe"
      },
      "source": [
        "df = pd.merge(df,movie_titles,on='item_id')\n",
        "df.head()"
      ],
      "execution_count": 6,
      "outputs": [
        {
          "output_type": "execute_result",
          "data": {
            "text/html": [
              "<div>\n",
              "<style scoped>\n",
              "    .dataframe tbody tr th:only-of-type {\n",
              "        vertical-align: middle;\n",
              "    }\n",
              "\n",
              "    .dataframe tbody tr th {\n",
              "        vertical-align: top;\n",
              "    }\n",
              "\n",
              "    .dataframe thead th {\n",
              "        text-align: right;\n",
              "    }\n",
              "</style>\n",
              "<table border=\"1\" class=\"dataframe\">\n",
              "  <thead>\n",
              "    <tr style=\"text-align: right;\">\n",
              "      <th></th>\n",
              "      <th>user_id</th>\n",
              "      <th>item_id</th>\n",
              "      <th>rating</th>\n",
              "      <th>timestamp</th>\n",
              "      <th>title</th>\n",
              "    </tr>\n",
              "  </thead>\n",
              "  <tbody>\n",
              "    <tr>\n",
              "      <th>0</th>\n",
              "      <td>0</td>\n",
              "      <td>50</td>\n",
              "      <td>5</td>\n",
              "      <td>881250949</td>\n",
              "      <td>Star Wars (1977)</td>\n",
              "    </tr>\n",
              "    <tr>\n",
              "      <th>1</th>\n",
              "      <td>290</td>\n",
              "      <td>50</td>\n",
              "      <td>5</td>\n",
              "      <td>880473582</td>\n",
              "      <td>Star Wars (1977)</td>\n",
              "    </tr>\n",
              "    <tr>\n",
              "      <th>2</th>\n",
              "      <td>79</td>\n",
              "      <td>50</td>\n",
              "      <td>4</td>\n",
              "      <td>891271545</td>\n",
              "      <td>Star Wars (1977)</td>\n",
              "    </tr>\n",
              "    <tr>\n",
              "      <th>3</th>\n",
              "      <td>2</td>\n",
              "      <td>50</td>\n",
              "      <td>5</td>\n",
              "      <td>888552084</td>\n",
              "      <td>Star Wars (1977)</td>\n",
              "    </tr>\n",
              "    <tr>\n",
              "      <th>4</th>\n",
              "      <td>8</td>\n",
              "      <td>50</td>\n",
              "      <td>5</td>\n",
              "      <td>879362124</td>\n",
              "      <td>Star Wars (1977)</td>\n",
              "    </tr>\n",
              "  </tbody>\n",
              "</table>\n",
              "</div>"
            ],
            "text/plain": [
              "   user_id  item_id  rating  timestamp             title\n",
              "0        0       50       5  881250949  Star Wars (1977)\n",
              "1      290       50       5  880473582  Star Wars (1977)\n",
              "2       79       50       4  891271545  Star Wars (1977)\n",
              "3        2       50       5  888552084  Star Wars (1977)\n",
              "4        8       50       5  879362124  Star Wars (1977)"
            ]
          },
          "metadata": {
            "tags": []
          },
          "execution_count": 6
        }
      ]
    },
    {
      "cell_type": "code",
      "metadata": {
        "id": "1i8CzM7IL4Mo",
        "colab_type": "code",
        "colab": {
          "base_uri": "https://localhost:8080/",
          "height": 50
        },
        "outputId": "18f1ddae-eb6f-4e1b-a486-4bf4f6b51ebf"
      },
      "source": [
        "n_users = df.user_id.nunique()\n",
        "n_items = df.item_id.nunique()\n",
        "\n",
        "print('Num. of Users: '+ str(n_users))\n",
        "print('Num of Movies: '+str(n_items))"
      ],
      "execution_count": 7,
      "outputs": [
        {
          "output_type": "stream",
          "text": [
            "Num. of Users: 944\n",
            "Num of Movies: 1682\n"
          ],
          "name": "stdout"
        }
      ]
    },
    {
      "cell_type": "code",
      "metadata": {
        "id": "JXk4FPufL6MW",
        "colab_type": "code",
        "colab": {}
      },
      "source": [
        "#Memory based collaborative filtering\n",
        "from sklearn.model_selection import train_test_split\n",
        "train_data, test_data = train_test_split(df, test_size=0.25)"
      ],
      "execution_count": 0,
      "outputs": []
    },
    {
      "cell_type": "code",
      "metadata": {
        "id": "7qUwP8s2L86N",
        "colab_type": "code",
        "colab": {}
      },
      "source": [
        "#Create two user-item matrices, one for training and another for testing\n",
        "train_data_matrix = np.zeros((n_users, n_items))\n",
        "for line in train_data.itertuples():\n",
        "    train_data_matrix[line[1]-1, line[2]-1] = line[3]  \n",
        "\n",
        "test_data_matrix = np.zeros((n_users, n_items))\n",
        "for line in test_data.itertuples():\n",
        "    test_data_matrix[line[1]-1, line[2]-1] = line[3]"
      ],
      "execution_count": 0,
      "outputs": []
    },
    {
      "cell_type": "code",
      "metadata": {
        "id": "7nBaZqJSMC_o",
        "colab_type": "code",
        "colab": {}
      },
      "source": [
        "from sklearn.metrics.pairwise import pairwise_distances\n",
        "user_similarity = pairwise_distances(train_data_matrix, metric='cosine')\n",
        "item_similarity = pairwise_distances(train_data_matrix.T, metric='cosine')"
      ],
      "execution_count": 0,
      "outputs": []
    },
    {
      "cell_type": "code",
      "metadata": {
        "id": "U1A8At00ME4N",
        "colab_type": "code",
        "colab": {}
      },
      "source": [
        "def predict(ratings, similarity, type='user'):\n",
        "    if type == 'user':\n",
        "        mean_user_rating = ratings.mean(axis=1)\n",
        "        #You use np.newaxis so that mean_user_rating has same format as ratings\n",
        "        ratings_diff = (ratings - mean_user_rating[:, np.newaxis]) \n",
        "        pred = mean_user_rating[:, np.newaxis] + similarity.dot(ratings_diff) / np.array([np.abs(similarity).sum(axis=1)]).T\n",
        "    elif type == 'item':\n",
        "        pred = ratings.dot(similarity) / np.array([np.abs(similarity).sum(axis=1)])     \n",
        "    return pred"
      ],
      "execution_count": 0,
      "outputs": []
    },
    {
      "cell_type": "code",
      "metadata": {
        "id": "8nvX9V_8MGuB",
        "colab_type": "code",
        "colab": {}
      },
      "source": [
        "item_prediction = predict(train_data_matrix, item_similarity, type='item')\n",
        "user_prediction = predict(train_data_matrix, user_similarity, type='user')"
      ],
      "execution_count": 0,
      "outputs": []
    },
    {
      "cell_type": "code",
      "metadata": {
        "id": "sRsNn6GpMIhR",
        "colab_type": "code",
        "colab": {}
      },
      "source": [
        "#Evaluation\n",
        "from sklearn.metrics import mean_squared_error\n",
        "from math import sqrt\n",
        "def rmse(prediction, ground_truth):\n",
        "    prediction = prediction[ground_truth.nonzero()].flatten() \n",
        "    ground_truth = ground_truth[ground_truth.nonzero()].flatten()\n",
        "    return sqrt(mean_squared_error(prediction, ground_truth))"
      ],
      "execution_count": 0,
      "outputs": []
    },
    {
      "cell_type": "code",
      "metadata": {
        "id": "JuI_iVSEMNvN",
        "colab_type": "code",
        "colab": {
          "base_uri": "https://localhost:8080/",
          "height": 50
        },
        "outputId": "44de6a18-cde2-4e9e-cef3-cbf41a8038f6"
      },
      "source": [
        "print('User-based CF RMSE: ' + str(rmse(user_prediction, test_data_matrix)))\n",
        "print('Item-based CF RMSE: ' + str(rmse(item_prediction, test_data_matrix)))"
      ],
      "execution_count": 15,
      "outputs": [
        {
          "output_type": "stream",
          "text": [
            "User-based CF RMSE: 3.1251178499376175\n",
            "Item-based CF RMSE: 3.4518281731822276\n"
          ],
          "name": "stdout"
        }
      ]
    },
    {
      "cell_type": "code",
      "metadata": {
        "id": "_jG1tgbdMPrS",
        "colab_type": "code",
        "colab": {
          "base_uri": "https://localhost:8080/",
          "height": 34
        },
        "outputId": "ebba6810-2109-44e7-8191-945a53d82be0"
      },
      "source": [
        "#model based collaborative filtering\n",
        "sparsity=round(1.0-len(df)/float(n_users*n_items),3)\n",
        "print('The sparsity level of MovieLens100K is ' +  str(sparsity*100) + '%')"
      ],
      "execution_count": 16,
      "outputs": [
        {
          "output_type": "stream",
          "text": [
            "The sparsity level of MovieLens100K is 93.7%\n"
          ],
          "name": "stdout"
        }
      ]
    },
    {
      "cell_type": "code",
      "metadata": {
        "id": "D1Ps7ZU2MV8w",
        "colab_type": "code",
        "colab": {
          "base_uri": "https://localhost:8080/",
          "height": 34
        },
        "outputId": "939e97e6-6c61-4085-8307-bf7b1d7e805e"
      },
      "source": [
        "#SVD\n",
        "import scipy.sparse as sp\n",
        "from scipy.sparse.linalg import svds\n",
        "\n",
        "#get SVD components from train matrix. Choose k.\n",
        "u, s, vt = svds(train_data_matrix, k = 20)\n",
        "s_diag_matrix=np.diag(s)\n",
        "X_pred = np.dot(np.dot(u, s_diag_matrix), vt)\n",
        "print('User-based CF MSE: ' + str(rmse(X_pred, test_data_matrix)))"
      ],
      "execution_count": 17,
      "outputs": [
        {
          "output_type": "stream",
          "text": [
            "User-based CF MSE: 2.7135390265226276\n"
          ],
          "name": "stdout"
        }
      ]
    },
    {
      "cell_type": "code",
      "metadata": {
        "id": "DG-cMIj0MZFt",
        "colab_type": "code",
        "colab": {}
      },
      "source": [
        ""
      ],
      "execution_count": 0,
      "outputs": []
    }
  ]
}