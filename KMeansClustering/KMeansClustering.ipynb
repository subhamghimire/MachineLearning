{
  "nbformat": 4,
  "nbformat_minor": 0,
  "metadata": {
    "colab": {
      "name": "KMeansClustering.ipynb",
      "provenance": [],
      "collapsed_sections": []
    },
    "kernelspec": {
      "name": "python3",
      "display_name": "Python 3"
    }
  },
  "cells": [
    {
      "cell_type": "code",
      "metadata": {
        "id": "4h1_qSrklXcJ",
        "colab_type": "code",
        "colab": {}
      },
      "source": [
        "import matplotlib.pyplot as plt\n",
        "import seaborn as sns\n",
        "%matplotlib inline"
      ],
      "execution_count": 0,
      "outputs": []
    },
    {
      "cell_type": "code",
      "metadata": {
        "id": "J5KfSbJvru1A",
        "colab_type": "code",
        "colab": {}
      },
      "source": [
        "from sklearn.datasets import make_blobs"
      ],
      "execution_count": 0,
      "outputs": []
    },
    {
      "cell_type": "code",
      "metadata": {
        "id": "Jc_HvgPQr78h",
        "colab_type": "code",
        "colab": {
          "base_uri": "https://localhost:8080/",
          "height": 1000
        },
        "outputId": "516d9214-fff7-4148-e1cc-b4cef00b717d"
      },
      "source": [
        "#make some artificial data for clustering\n",
        "data = make_blobs(n_samples=200,n_features=2,centers=4,cluster_std=1.4,random_state=100) \n",
        "data    "
      ],
      "execution_count": 13,
      "outputs": [
        {
          "output_type": "execute_result",
          "data": {
            "text/plain": [
              "(array([[-10.67351207,  -7.64230654],\n",
              "        [-10.13525844,  -5.86540476],\n",
              "        [ -9.65870421,  -8.79464076],\n",
              "        [ -9.38816727,  -8.24150261],\n",
              "        [ -3.60645672,   5.22408228],\n",
              "        [-10.15327849,  -6.85875108],\n",
              "        [  0.71100369,   6.55095658],\n",
              "        [  0.546841  ,   7.61435561],\n",
              "        [ -0.2572114 ,   7.95909301],\n",
              "        [  0.30511944,   8.22870852],\n",
              "        [  0.12430631,  -2.99098654],\n",
              "        [ -1.32424926,   6.92662215],\n",
              "        [ -0.91831588,   5.36386254],\n",
              "        [ -1.68632984,   9.68190576],\n",
              "        [ -0.46377027,   7.49706966],\n",
              "        [ -2.10284932,   5.23514566],\n",
              "        [ -9.35760881,  -7.11047409],\n",
              "        [ -0.77745126,   6.87263908],\n",
              "        [ -9.16730609,  -8.09264162],\n",
              "        [  0.97674283,   7.61382678],\n",
              "        [-12.8916974 ,  -6.50573152],\n",
              "        [ -8.92256457,  -9.36608432],\n",
              "        [  0.22686106,  -3.82338341],\n",
              "        [  1.78645154,   6.48740902],\n",
              "        [  0.76166598,  -4.42707167],\n",
              "        [  0.41136555,  -4.35466588],\n",
              "        [ -0.45536112,   4.64230819],\n",
              "        [ -8.57147968,  -8.94532529],\n",
              "        [ -1.75434236,   8.31969273],\n",
              "        [  1.72635327,  -3.401925  ],\n",
              "        [  0.87833922,  -5.29072653],\n",
              "        [  2.84786513,   7.26807661],\n",
              "        [  1.02050769,  -3.72167887],\n",
              "        [ -9.95835622,  -6.40447134],\n",
              "        [ -9.74907127,  -4.01341274],\n",
              "        [ -1.32730035,   8.22462786],\n",
              "        [ -3.29454283,  -4.38596811],\n",
              "        [  0.25470896,  -5.99825784],\n",
              "        [-10.27911231,  -8.76710442],\n",
              "        [ -1.3671621 ,   8.7272082 ],\n",
              "        [ -8.44635704,  -6.0301912 ],\n",
              "        [-12.53918338,  -7.31333777],\n",
              "        [  3.43280935,  -4.42838789],\n",
              "        [  3.8702705 ,   5.60106191],\n",
              "        [  1.02051962,  -4.39301521],\n",
              "        [  3.58795538,   8.68387585],\n",
              "        [ -0.36641891,  -4.40651777],\n",
              "        [ -2.49583366,   6.06759748],\n",
              "        [  1.80990796,  -4.5787879 ],\n",
              "        [ -9.74097104,  -8.91005325],\n",
              "        [ -9.87035421,  -5.444067  ],\n",
              "        [  1.68090151,  -5.97894463],\n",
              "        [-10.65691947,  -6.41624342],\n",
              "        [  0.60907908,  -7.91462445],\n",
              "        [ -7.86803283,  -7.23050794],\n",
              "        [ -1.70956478,  -3.92008178],\n",
              "        [  0.05106577,  -3.2890264 ],\n",
              "        [ -1.23956412,   6.40768014],\n",
              "        [  1.5167107 ,   4.12083883],\n",
              "        [  3.08880331,   4.8588791 ],\n",
              "        [  2.11403562,   7.07483809],\n",
              "        [ -5.46287614,  -2.90073266],\n",
              "        [  2.68774614,  -6.85894617],\n",
              "        [  1.91744892,   6.83322935],\n",
              "        [-10.32343282,  -8.13182347],\n",
              "        [  3.10679891,   6.16387705],\n",
              "        [ -1.06533302,   5.8421428 ],\n",
              "        [ -8.84436338,  -9.24783354],\n",
              "        [  3.58991727,   5.02571049],\n",
              "        [ -9.50189449,  -8.04333719],\n",
              "        [  3.42903369,   7.18945884],\n",
              "        [ -3.21380397,   6.67535141],\n",
              "        [  3.90595163,   6.3321477 ],\n",
              "        [-10.83233568,  -2.71729958],\n",
              "        [  1.71581354,   6.78044684],\n",
              "        [ -7.07890231,  -6.5222528 ],\n",
              "        [  0.40361085,  -5.39751747],\n",
              "        [  3.63701973,   9.50253652],\n",
              "        [  0.43114117,   6.88536247],\n",
              "        [ -7.774392  ,  -7.82056623],\n",
              "        [  3.87848205,   6.00396035],\n",
              "        [  1.95845019,  -3.83308628],\n",
              "        [-10.78321834,  -7.95353332],\n",
              "        [ -9.33483374,  -8.72821013],\n",
              "        [  0.05774268,  -6.11184398],\n",
              "        [  4.65772219,   6.64116481],\n",
              "        [ -2.37292931,   7.96397975],\n",
              "        [  1.9187335 ,  -6.26240157],\n",
              "        [ -3.66651062,   9.7609222 ],\n",
              "        [  1.83426889,  -3.47096621],\n",
              "        [  3.19819386,   6.3965772 ],\n",
              "        [ -8.11719003,  -8.19244115],\n",
              "        [ -1.8438462 ,   4.89482899],\n",
              "        [ -1.03085983,  -6.15802062],\n",
              "        [-13.08244267,  -8.05605648],\n",
              "        [ -7.72258208,  -9.09838199],\n",
              "        [ -1.51841285,  -6.02337771],\n",
              "        [  2.94492212,   6.32577397],\n",
              "        [  0.02151312,   6.57419779],\n",
              "        [ -9.78210097,  -8.4124807 ],\n",
              "        [  2.67907842,   5.69821004],\n",
              "        [ -2.02129497,   5.11609039],\n",
              "        [  0.5196547 ,  -5.06285931],\n",
              "        [  5.75548936,   6.07884428],\n",
              "        [  1.39506225,   6.41490589],\n",
              "        [ -1.19830105,   5.93663222],\n",
              "        [ -1.39091107,  -2.37361288],\n",
              "        [  3.71654942,  -5.20361247],\n",
              "        [  4.25925687,   5.03100041],\n",
              "        [  0.12908959,   9.80431977],\n",
              "        [ -4.33091239,   6.78416582],\n",
              "        [  2.30578885,  -6.43767915],\n",
              "        [  1.56057236,   6.85079361],\n",
              "        [ -3.32459672,   7.02871787],\n",
              "        [  0.67522712,   5.72677658],\n",
              "        [  3.49530163,  -4.96027699],\n",
              "        [  0.22202285,   6.5731241 ],\n",
              "        [  4.11323238,   5.00809859],\n",
              "        [-10.73878225,  -8.94455424],\n",
              "        [ -8.29918246,  -5.94466102],\n",
              "        [ -9.31278268,  -7.7919419 ],\n",
              "        [  5.50172803,   5.95790717],\n",
              "        [ -0.5085353 ,  -3.93210144],\n",
              "        [ -7.66090208,  -6.15056286],\n",
              "        [ -8.16810795,  -5.23966675],\n",
              "        [ -0.7951258 ,  -5.20225697],\n",
              "        [ -2.34962445,   9.10215606],\n",
              "        [ -0.44796579,  -5.59171761],\n",
              "        [ -2.09179106,   4.99361853],\n",
              "        [ -3.49070827,   5.99845875],\n",
              "        [ -3.46544727,   5.35948187],\n",
              "        [  1.9187215 ,  -5.070938  ],\n",
              "        [  1.126425  ,  -3.12069722],\n",
              "        [  3.38820984,   7.90717341],\n",
              "        [  1.17775037,  -5.93067296],\n",
              "        [ -6.68650562,  -8.884061  ],\n",
              "        [ -0.47785495,   7.5057368 ],\n",
              "        [  0.75664309,  -5.67823637],\n",
              "        [ -1.52023397,  -3.91578276],\n",
              "        [ -0.41817136,   6.28215336],\n",
              "        [ -0.19079439,  -3.28957668],\n",
              "        [  0.71099113,   7.86626957],\n",
              "        [  4.52158102,   8.04559737],\n",
              "        [ -9.34058509, -10.20738573],\n",
              "        [ -8.32984524,  -6.27074297],\n",
              "        [  3.54486869,   6.78266141],\n",
              "        [  4.17071978,   7.27749755],\n",
              "        [ -0.66345523,   5.62568006],\n",
              "        [  1.8236399 ,   6.86494758],\n",
              "        [  1.70846733,   6.66422927],\n",
              "        [  3.1645301 ,   8.16658992],\n",
              "        [-11.68406813,  -6.67891595],\n",
              "        [ -1.32526371,  -3.16564853],\n",
              "        [-10.7312149 ,  -8.70741234],\n",
              "        [-10.43222919,  -6.92412869],\n",
              "        [  0.60280467,  -4.07561028],\n",
              "        [ -2.22985003,   6.59303848],\n",
              "        [ -0.68081561,   6.28363246],\n",
              "        [  4.22268938,   6.63818989],\n",
              "        [ -0.85682907,   7.27350478],\n",
              "        [  3.26393685,   7.92181168],\n",
              "        [  3.23354651,   6.27789253],\n",
              "        [  4.76422404,   8.27227169],\n",
              "        [ -1.95741165,   5.28868441],\n",
              "        [-10.30487609,  -6.89604161],\n",
              "        [  3.44801819,   6.27841605],\n",
              "        [-10.78044394,  -7.72261114],\n",
              "        [  1.20108131,  -4.41364433],\n",
              "        [  0.51546804,  -5.61202233],\n",
              "        [ -1.08817894,   4.5366627 ],\n",
              "        [  5.09030774,   5.8662755 ],\n",
              "        [ -2.14793901,   7.80436474],\n",
              "        [  3.13806549,   5.3205132 ],\n",
              "        [  0.8754254 ,   5.88451157],\n",
              "        [ -0.33901945,  -2.68335466],\n",
              "        [  1.21091898,   4.86911209],\n",
              "        [ -3.62026741,   7.04656043],\n",
              "        [  2.61381224,  10.36022025],\n",
              "        [ -9.23769366,  -9.57028531],\n",
              "        [ -7.96298034,  -9.99816519],\n",
              "        [  7.22484875,   3.75504543],\n",
              "        [  0.63791237,   6.7510466 ],\n",
              "        [ -1.52210631,   6.13504543],\n",
              "        [  1.89149932,  -2.52643372],\n",
              "        [ -9.25042191,  -3.77601486],\n",
              "        [ -1.42164232,  -5.89450613],\n",
              "        [  1.63550051,   7.81779526],\n",
              "        [  5.99731418,   6.04645402],\n",
              "        [  4.61964726,   6.17181888],\n",
              "        [  3.13467316,  -2.27436505],\n",
              "        [  2.79421051,   7.55159056],\n",
              "        [  3.95228608,   8.38567816],\n",
              "        [  2.53357001,  -6.79947586],\n",
              "        [-10.34150876,  -9.56313541],\n",
              "        [  1.17945829,  -6.45311609],\n",
              "        [ -0.1810415 ,   6.86836603],\n",
              "        [ -4.25096191,   6.70680081],\n",
              "        [-11.43800294,  -7.90650583],\n",
              "        [  1.291979  ,   6.97805061],\n",
              "        [  0.10588401,  -5.36805273]]),\n",
              " array([2, 2, 2, 2, 1, 2, 3, 3, 1, 1, 0, 1, 1, 1, 1, 1, 2, 1, 2, 1, 2, 2,\n",
              "        0, 3, 0, 0, 1, 2, 1, 0, 0, 3, 0, 2, 2, 1, 0, 0, 2, 1, 2, 2, 0, 3,\n",
              "        0, 3, 0, 1, 0, 2, 2, 0, 2, 0, 2, 0, 0, 1, 3, 3, 3, 2, 0, 3, 2, 3,\n",
              "        1, 2, 3, 2, 3, 1, 3, 2, 3, 2, 0, 3, 3, 2, 3, 0, 2, 2, 0, 3, 1, 0,\n",
              "        1, 0, 3, 2, 1, 0, 2, 2, 0, 3, 1, 2, 3, 1, 0, 3, 1, 1, 0, 0, 3, 1,\n",
              "        1, 0, 3, 1, 3, 0, 1, 3, 2, 2, 2, 3, 0, 2, 2, 0, 1, 0, 1, 1, 1, 0,\n",
              "        0, 3, 0, 2, 1, 0, 0, 1, 0, 1, 3, 2, 2, 3, 3, 1, 3, 1, 3, 2, 0, 2,\n",
              "        2, 0, 1, 1, 3, 1, 3, 3, 3, 1, 2, 3, 2, 0, 0, 1, 3, 1, 3, 1, 0, 1,\n",
              "        1, 3, 2, 2, 3, 3, 1, 0, 2, 0, 3, 3, 3, 0, 3, 3, 0, 2, 0, 1, 1, 2,\n",
              "        3, 0]))"
            ]
          },
          "metadata": {
            "tags": []
          },
          "execution_count": 13
        }
      ]
    },
    {
      "cell_type": "code",
      "metadata": {
        "id": "HfUd-6E5tfNL",
        "colab_type": "code",
        "colab": {
          "base_uri": "https://localhost:8080/",
          "height": 1000
        },
        "outputId": "dda42656-bd11-49b0-8ab7-3215a26322c8"
      },
      "source": [
        "data[0] #features"
      ],
      "execution_count": 14,
      "outputs": [
        {
          "output_type": "execute_result",
          "data": {
            "text/plain": [
              "array([[-10.67351207,  -7.64230654],\n",
              "       [-10.13525844,  -5.86540476],\n",
              "       [ -9.65870421,  -8.79464076],\n",
              "       [ -9.38816727,  -8.24150261],\n",
              "       [ -3.60645672,   5.22408228],\n",
              "       [-10.15327849,  -6.85875108],\n",
              "       [  0.71100369,   6.55095658],\n",
              "       [  0.546841  ,   7.61435561],\n",
              "       [ -0.2572114 ,   7.95909301],\n",
              "       [  0.30511944,   8.22870852],\n",
              "       [  0.12430631,  -2.99098654],\n",
              "       [ -1.32424926,   6.92662215],\n",
              "       [ -0.91831588,   5.36386254],\n",
              "       [ -1.68632984,   9.68190576],\n",
              "       [ -0.46377027,   7.49706966],\n",
              "       [ -2.10284932,   5.23514566],\n",
              "       [ -9.35760881,  -7.11047409],\n",
              "       [ -0.77745126,   6.87263908],\n",
              "       [ -9.16730609,  -8.09264162],\n",
              "       [  0.97674283,   7.61382678],\n",
              "       [-12.8916974 ,  -6.50573152],\n",
              "       [ -8.92256457,  -9.36608432],\n",
              "       [  0.22686106,  -3.82338341],\n",
              "       [  1.78645154,   6.48740902],\n",
              "       [  0.76166598,  -4.42707167],\n",
              "       [  0.41136555,  -4.35466588],\n",
              "       [ -0.45536112,   4.64230819],\n",
              "       [ -8.57147968,  -8.94532529],\n",
              "       [ -1.75434236,   8.31969273],\n",
              "       [  1.72635327,  -3.401925  ],\n",
              "       [  0.87833922,  -5.29072653],\n",
              "       [  2.84786513,   7.26807661],\n",
              "       [  1.02050769,  -3.72167887],\n",
              "       [ -9.95835622,  -6.40447134],\n",
              "       [ -9.74907127,  -4.01341274],\n",
              "       [ -1.32730035,   8.22462786],\n",
              "       [ -3.29454283,  -4.38596811],\n",
              "       [  0.25470896,  -5.99825784],\n",
              "       [-10.27911231,  -8.76710442],\n",
              "       [ -1.3671621 ,   8.7272082 ],\n",
              "       [ -8.44635704,  -6.0301912 ],\n",
              "       [-12.53918338,  -7.31333777],\n",
              "       [  3.43280935,  -4.42838789],\n",
              "       [  3.8702705 ,   5.60106191],\n",
              "       [  1.02051962,  -4.39301521],\n",
              "       [  3.58795538,   8.68387585],\n",
              "       [ -0.36641891,  -4.40651777],\n",
              "       [ -2.49583366,   6.06759748],\n",
              "       [  1.80990796,  -4.5787879 ],\n",
              "       [ -9.74097104,  -8.91005325],\n",
              "       [ -9.87035421,  -5.444067  ],\n",
              "       [  1.68090151,  -5.97894463],\n",
              "       [-10.65691947,  -6.41624342],\n",
              "       [  0.60907908,  -7.91462445],\n",
              "       [ -7.86803283,  -7.23050794],\n",
              "       [ -1.70956478,  -3.92008178],\n",
              "       [  0.05106577,  -3.2890264 ],\n",
              "       [ -1.23956412,   6.40768014],\n",
              "       [  1.5167107 ,   4.12083883],\n",
              "       [  3.08880331,   4.8588791 ],\n",
              "       [  2.11403562,   7.07483809],\n",
              "       [ -5.46287614,  -2.90073266],\n",
              "       [  2.68774614,  -6.85894617],\n",
              "       [  1.91744892,   6.83322935],\n",
              "       [-10.32343282,  -8.13182347],\n",
              "       [  3.10679891,   6.16387705],\n",
              "       [ -1.06533302,   5.8421428 ],\n",
              "       [ -8.84436338,  -9.24783354],\n",
              "       [  3.58991727,   5.02571049],\n",
              "       [ -9.50189449,  -8.04333719],\n",
              "       [  3.42903369,   7.18945884],\n",
              "       [ -3.21380397,   6.67535141],\n",
              "       [  3.90595163,   6.3321477 ],\n",
              "       [-10.83233568,  -2.71729958],\n",
              "       [  1.71581354,   6.78044684],\n",
              "       [ -7.07890231,  -6.5222528 ],\n",
              "       [  0.40361085,  -5.39751747],\n",
              "       [  3.63701973,   9.50253652],\n",
              "       [  0.43114117,   6.88536247],\n",
              "       [ -7.774392  ,  -7.82056623],\n",
              "       [  3.87848205,   6.00396035],\n",
              "       [  1.95845019,  -3.83308628],\n",
              "       [-10.78321834,  -7.95353332],\n",
              "       [ -9.33483374,  -8.72821013],\n",
              "       [  0.05774268,  -6.11184398],\n",
              "       [  4.65772219,   6.64116481],\n",
              "       [ -2.37292931,   7.96397975],\n",
              "       [  1.9187335 ,  -6.26240157],\n",
              "       [ -3.66651062,   9.7609222 ],\n",
              "       [  1.83426889,  -3.47096621],\n",
              "       [  3.19819386,   6.3965772 ],\n",
              "       [ -8.11719003,  -8.19244115],\n",
              "       [ -1.8438462 ,   4.89482899],\n",
              "       [ -1.03085983,  -6.15802062],\n",
              "       [-13.08244267,  -8.05605648],\n",
              "       [ -7.72258208,  -9.09838199],\n",
              "       [ -1.51841285,  -6.02337771],\n",
              "       [  2.94492212,   6.32577397],\n",
              "       [  0.02151312,   6.57419779],\n",
              "       [ -9.78210097,  -8.4124807 ],\n",
              "       [  2.67907842,   5.69821004],\n",
              "       [ -2.02129497,   5.11609039],\n",
              "       [  0.5196547 ,  -5.06285931],\n",
              "       [  5.75548936,   6.07884428],\n",
              "       [  1.39506225,   6.41490589],\n",
              "       [ -1.19830105,   5.93663222],\n",
              "       [ -1.39091107,  -2.37361288],\n",
              "       [  3.71654942,  -5.20361247],\n",
              "       [  4.25925687,   5.03100041],\n",
              "       [  0.12908959,   9.80431977],\n",
              "       [ -4.33091239,   6.78416582],\n",
              "       [  2.30578885,  -6.43767915],\n",
              "       [  1.56057236,   6.85079361],\n",
              "       [ -3.32459672,   7.02871787],\n",
              "       [  0.67522712,   5.72677658],\n",
              "       [  3.49530163,  -4.96027699],\n",
              "       [  0.22202285,   6.5731241 ],\n",
              "       [  4.11323238,   5.00809859],\n",
              "       [-10.73878225,  -8.94455424],\n",
              "       [ -8.29918246,  -5.94466102],\n",
              "       [ -9.31278268,  -7.7919419 ],\n",
              "       [  5.50172803,   5.95790717],\n",
              "       [ -0.5085353 ,  -3.93210144],\n",
              "       [ -7.66090208,  -6.15056286],\n",
              "       [ -8.16810795,  -5.23966675],\n",
              "       [ -0.7951258 ,  -5.20225697],\n",
              "       [ -2.34962445,   9.10215606],\n",
              "       [ -0.44796579,  -5.59171761],\n",
              "       [ -2.09179106,   4.99361853],\n",
              "       [ -3.49070827,   5.99845875],\n",
              "       [ -3.46544727,   5.35948187],\n",
              "       [  1.9187215 ,  -5.070938  ],\n",
              "       [  1.126425  ,  -3.12069722],\n",
              "       [  3.38820984,   7.90717341],\n",
              "       [  1.17775037,  -5.93067296],\n",
              "       [ -6.68650562,  -8.884061  ],\n",
              "       [ -0.47785495,   7.5057368 ],\n",
              "       [  0.75664309,  -5.67823637],\n",
              "       [ -1.52023397,  -3.91578276],\n",
              "       [ -0.41817136,   6.28215336],\n",
              "       [ -0.19079439,  -3.28957668],\n",
              "       [  0.71099113,   7.86626957],\n",
              "       [  4.52158102,   8.04559737],\n",
              "       [ -9.34058509, -10.20738573],\n",
              "       [ -8.32984524,  -6.27074297],\n",
              "       [  3.54486869,   6.78266141],\n",
              "       [  4.17071978,   7.27749755],\n",
              "       [ -0.66345523,   5.62568006],\n",
              "       [  1.8236399 ,   6.86494758],\n",
              "       [  1.70846733,   6.66422927],\n",
              "       [  3.1645301 ,   8.16658992],\n",
              "       [-11.68406813,  -6.67891595],\n",
              "       [ -1.32526371,  -3.16564853],\n",
              "       [-10.7312149 ,  -8.70741234],\n",
              "       [-10.43222919,  -6.92412869],\n",
              "       [  0.60280467,  -4.07561028],\n",
              "       [ -2.22985003,   6.59303848],\n",
              "       [ -0.68081561,   6.28363246],\n",
              "       [  4.22268938,   6.63818989],\n",
              "       [ -0.85682907,   7.27350478],\n",
              "       [  3.26393685,   7.92181168],\n",
              "       [  3.23354651,   6.27789253],\n",
              "       [  4.76422404,   8.27227169],\n",
              "       [ -1.95741165,   5.28868441],\n",
              "       [-10.30487609,  -6.89604161],\n",
              "       [  3.44801819,   6.27841605],\n",
              "       [-10.78044394,  -7.72261114],\n",
              "       [  1.20108131,  -4.41364433],\n",
              "       [  0.51546804,  -5.61202233],\n",
              "       [ -1.08817894,   4.5366627 ],\n",
              "       [  5.09030774,   5.8662755 ],\n",
              "       [ -2.14793901,   7.80436474],\n",
              "       [  3.13806549,   5.3205132 ],\n",
              "       [  0.8754254 ,   5.88451157],\n",
              "       [ -0.33901945,  -2.68335466],\n",
              "       [  1.21091898,   4.86911209],\n",
              "       [ -3.62026741,   7.04656043],\n",
              "       [  2.61381224,  10.36022025],\n",
              "       [ -9.23769366,  -9.57028531],\n",
              "       [ -7.96298034,  -9.99816519],\n",
              "       [  7.22484875,   3.75504543],\n",
              "       [  0.63791237,   6.7510466 ],\n",
              "       [ -1.52210631,   6.13504543],\n",
              "       [  1.89149932,  -2.52643372],\n",
              "       [ -9.25042191,  -3.77601486],\n",
              "       [ -1.42164232,  -5.89450613],\n",
              "       [  1.63550051,   7.81779526],\n",
              "       [  5.99731418,   6.04645402],\n",
              "       [  4.61964726,   6.17181888],\n",
              "       [  3.13467316,  -2.27436505],\n",
              "       [  2.79421051,   7.55159056],\n",
              "       [  3.95228608,   8.38567816],\n",
              "       [  2.53357001,  -6.79947586],\n",
              "       [-10.34150876,  -9.56313541],\n",
              "       [  1.17945829,  -6.45311609],\n",
              "       [ -0.1810415 ,   6.86836603],\n",
              "       [ -4.25096191,   6.70680081],\n",
              "       [-11.43800294,  -7.90650583],\n",
              "       [  1.291979  ,   6.97805061],\n",
              "       [  0.10588401,  -5.36805273]])"
            ]
          },
          "metadata": {
            "tags": []
          },
          "execution_count": 14
        }
      ]
    },
    {
      "cell_type": "code",
      "metadata": {
        "id": "EtwHXPobsSDp",
        "colab_type": "code",
        "colab": {
          "base_uri": "https://localhost:8080/",
          "height": 282
        },
        "outputId": "a80759e3-dc92-47c4-a161-8b71053a5d6b"
      },
      "source": [
        "plt.scatter(data[0][:,0],data[0][:,1],c=data[1])"
      ],
      "execution_count": 19,
      "outputs": [
        {
          "output_type": "execute_result",
          "data": {
            "text/plain": [
              "<matplotlib.collections.PathCollection at 0x7faec3ce14a8>"
            ]
          },
          "metadata": {
            "tags": []
          },
          "execution_count": 19
        },
        {
          "output_type": "display_data",
          "data": {
            "image/png": "[encoded data removed]",
            "text/plain": [
              "<Figure size 432x288 with 1 Axes>"
            ]
          },
          "metadata": {
            "tags": [],
            "needs_background": "light"
          }
        }
      ]
    },
    {
      "cell_type": "code",
      "metadata": {
        "id": "tQS1CebxsroS",
        "colab_type": "code",
        "colab": {
          "base_uri": "https://localhost:8080/",
          "height": 185
        },
        "outputId": "5eb660d3-28d6-4e82-fb00-a0f0f73a31a4"
      },
      "source": [
        "data[1]"
      ],
      "execution_count": 20,
      "outputs": [
        {
          "output_type": "execute_result",
          "data": {
            "text/plain": [
              "array([2, 2, 2, 2, 1, 2, 3, 3, 1, 1, 0, 1, 1, 1, 1, 1, 2, 1, 2, 1, 2, 2,\n",
              "       0, 3, 0, 0, 1, 2, 1, 0, 0, 3, 0, 2, 2, 1, 0, 0, 2, 1, 2, 2, 0, 3,\n",
              "       0, 3, 0, 1, 0, 2, 2, 0, 2, 0, 2, 0, 0, 1, 3, 3, 3, 2, 0, 3, 2, 3,\n",
              "       1, 2, 3, 2, 3, 1, 3, 2, 3, 2, 0, 3, 3, 2, 3, 0, 2, 2, 0, 3, 1, 0,\n",
              "       1, 0, 3, 2, 1, 0, 2, 2, 0, 3, 1, 2, 3, 1, 0, 3, 1, 1, 0, 0, 3, 1,\n",
              "       1, 0, 3, 1, 3, 0, 1, 3, 2, 2, 2, 3, 0, 2, 2, 0, 1, 0, 1, 1, 1, 0,\n",
              "       0, 3, 0, 2, 1, 0, 0, 1, 0, 1, 3, 2, 2, 3, 3, 1, 3, 1, 3, 2, 0, 2,\n",
              "       2, 0, 1, 1, 3, 1, 3, 3, 3, 1, 2, 3, 2, 0, 0, 1, 3, 1, 3, 1, 0, 1,\n",
              "       1, 3, 2, 2, 3, 3, 1, 0, 2, 0, 3, 3, 3, 0, 3, 3, 0, 2, 0, 1, 1, 2,\n",
              "       3, 0])"
            ]
          },
          "metadata": {
            "tags": []
          },
          "execution_count": 20
        }
      ]
    },
    {
      "cell_type": "code",
      "metadata": {
        "id": "ZwpR0FBZswVv",
        "colab_type": "code",
        "colab": {}
      },
      "source": [
        "#creating the clusters\n",
        "from sklearn.cluster import KMeans"
      ],
      "execution_count": 0,
      "outputs": []
    },
    {
      "cell_type": "code",
      "metadata": {
        "id": "xxitbWD_tIU8",
        "colab_type": "code",
        "colab": {}
      },
      "source": [
        "Kmeans = KMeans(n_clusters=4)"
      ],
      "execution_count": 0,
      "outputs": []
    },
    {
      "cell_type": "code",
      "metadata": {
        "id": "1-5DTs_wtTA4",
        "colab_type": "code",
        "colab": {
          "base_uri": "https://localhost:8080/",
          "height": 67
        },
        "outputId": "38c0c0fa-33b9-48ae-99dc-13b158982692"
      },
      "source": [
        "Kmeans.fit(data[0])"
      ],
      "execution_count": 31,
      "outputs": [
        {
          "output_type": "execute_result",
          "data": {
            "text/plain": [
              "KMeans(algorithm='auto', copy_x=True, init='k-means++', max_iter=300,\n",
              "       n_clusters=4, n_init=10, n_jobs=None, precompute_distances='auto',\n",
              "       random_state=None, tol=0.0001, verbose=0)"
            ]
          },
          "metadata": {
            "tags": []
          },
          "execution_count": 31
        }
      ]
    },
    {
      "cell_type": "code",
      "metadata": {
        "id": "_QrYukuTtk9u",
        "colab_type": "code",
        "colab": {
          "base_uri": "https://localhost:8080/",
          "height": 84
        },
        "outputId": "6ef854ec-d973-4c15-cb05-972aa43a43b6"
      },
      "source": [
        "Kmeans.cluster_centers_"
      ],
      "execution_count": 32,
      "outputs": [
        {
          "output_type": "execute_result",
          "data": {
            "text/plain": [
              "array([[-9.54737265, -7.41907987],\n",
              "       [-1.30890673,  6.78134169],\n",
              "       [ 0.66381852, -4.72912921],\n",
              "       [ 3.35169038,  6.63644698]])"
            ]
          },
          "metadata": {
            "tags": []
          },
          "execution_count": 32
        }
      ]
    },
    {
      "cell_type": "code",
      "metadata": {
        "id": "OH6t9xcotmqe",
        "colab_type": "code",
        "colab": {
          "base_uri": "https://localhost:8080/",
          "height": 185
        },
        "outputId": "aae477ba-73af-4730-fc11-47ad13e14bbc"
      },
      "source": [
        "Kmeans.labels_   #predicted labels"
      ],
      "execution_count": 33,
      "outputs": [
        {
          "output_type": "execute_result",
          "data": {
            "text/plain": [
              "array([0, 0, 0, 0, 1, 0, 1, 1, 1, 1, 2, 1, 1, 1, 1, 1, 0, 1, 0, 1, 0, 0,\n",
              "       2, 3, 2, 2, 1, 0, 1, 2, 2, 3, 2, 0, 0, 1, 2, 2, 0, 1, 0, 0, 2, 3,\n",
              "       2, 3, 2, 1, 2, 0, 0, 2, 0, 2, 0, 2, 2, 1, 3, 3, 3, 0, 2, 3, 0, 3,\n",
              "       1, 0, 3, 0, 3, 1, 3, 0, 3, 0, 2, 3, 1, 0, 3, 2, 0, 0, 2, 3, 1, 2,\n",
              "       1, 2, 3, 0, 1, 2, 0, 0, 2, 3, 1, 0, 3, 1, 2, 3, 3, 1, 2, 2, 3, 1,\n",
              "       1, 2, 3, 1, 1, 2, 1, 3, 0, 0, 0, 3, 2, 0, 0, 2, 1, 2, 1, 1, 1, 2,\n",
              "       2, 3, 2, 0, 1, 2, 2, 1, 2, 1, 3, 0, 0, 3, 3, 1, 3, 3, 3, 0, 2, 0,\n",
              "       0, 2, 1, 1, 3, 1, 3, 3, 3, 1, 0, 3, 0, 2, 2, 1, 3, 1, 3, 1, 2, 3,\n",
              "       1, 3, 0, 0, 3, 1, 1, 2, 0, 2, 3, 3, 3, 2, 3, 3, 2, 0, 2, 1, 1, 0,\n",
              "       3, 2], dtype=int32)"
            ]
          },
          "metadata": {
            "tags": []
          },
          "execution_count": 33
        }
      ]
    },
    {
      "cell_type": "code",
      "metadata": {
        "id": "6FCpaXTYtthW",
        "colab_type": "code",
        "colab": {
          "base_uri": "https://localhost:8080/",
          "height": 407
        },
        "outputId": "694a9851-584c-4ea7-d1ab-53a8dbb94111"
      },
      "source": [
        "#kmeans comparision to original \n",
        "f, (ax1, ax2) = plt.subplots(1, 2, sharey=True,figsize=(10,6))\n",
        "ax1.set_title('K Means')\n",
        "ax1.scatter(data[0][:,0],data[0][:,1],c=Kmeans.labels_,cmap='rainbow')\n",
        "\n",
        "ax2.set_title(\"Original\")\n",
        "ax2.scatter(data[0][:,0],data[0][:,1],c=data[1],cmap='rainbow')"
      ],
      "execution_count": 40,
      "outputs": [
        {
          "output_type": "execute_result",
          "data": {
            "text/plain": [
              "<matplotlib.collections.PathCollection at 0x7faec38c7b00>"
            ]
          },
          "metadata": {
            "tags": []
          },
          "execution_count": 40
        },
        {
          "output_type": "display_data",
          "data": {
            "image/png": "[encoded data removed]",
            "text/plain": [
              "<Figure size 720x432 with 2 Axes>"
            ]
          },
          "metadata": {
            "tags": [],
            "needs_background": "light"
          }
        }
      ]
    },
    {
      "cell_type": "code",
      "metadata": {
        "id": "cEeSCzVWue_y",
        "colab_type": "code",
        "colab": {}
      },
      "source": [
        "#the colors are meaningless in reference between the two plots.\n",
        "#kmean reduces the noise and make cluster better."
      ],
      "execution_count": 0,
      "outputs": []
    }
  ]
}